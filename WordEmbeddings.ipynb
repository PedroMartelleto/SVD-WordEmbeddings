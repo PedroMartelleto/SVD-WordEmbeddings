{
 "cells": [
  {
   "cell_type": "code",
   "execution_count": 2,
   "metadata": {},
   "outputs": [
    {
     "name": "stdout",
     "output_type": "stream",
     "text": [
      "Defaulting to user installation because normal site-packages is not writeable\n",
      "Requirement already satisfied: datasets in /home/Pedro/.local/lib/python3.8/site-packages (1.16.1)\n",
      "Requirement already satisfied: unidecode in /home/Pedro/.local/lib/python3.8/site-packages (1.3.2)\n",
      "Requirement already satisfied: ipywidgets in /home/Pedro/.local/lib/python3.8/site-packages (7.6.5)\n",
      "Requirement already satisfied: tqdm in /home/Pedro/.local/lib/python3.8/site-packages (4.62.3)\n",
      "Requirement already satisfied: dill in /home/Pedro/.local/lib/python3.8/site-packages (from datasets) (0.3.4)\n",
      "Requirement already satisfied: xxhash in /home/Pedro/.local/lib/python3.8/site-packages (from datasets) (2.0.2)\n",
      "Requirement already satisfied: multiprocess in /home/Pedro/.local/lib/python3.8/site-packages (from datasets) (0.70.12.2)\n",
      "Requirement already satisfied: packaging in /usr/local/lib/python3.8/dist-packages (from datasets) (20.9)\n",
      "Requirement already satisfied: pyarrow!=4.0.0,>=3.0.0 in /home/Pedro/.local/lib/python3.8/site-packages (from datasets) (6.0.1)\n",
      "Requirement already satisfied: requests>=2.19.0 in /usr/local/lib/python3.8/dist-packages (from datasets) (2.25.1)\n",
      "Requirement already satisfied: fsspec[http]>=2021.05.0 in /home/Pedro/.local/lib/python3.8/site-packages (from datasets) (2021.11.1)\n",
      "Requirement already satisfied: aiohttp in /home/Pedro/.local/lib/python3.8/site-packages (from datasets) (3.8.1)\n",
      "Requirement already satisfied: numpy>=1.17 in /usr/local/lib/python3.8/dist-packages (from datasets) (1.19.5)\n",
      "Requirement already satisfied: pandas in /home/Pedro/.local/lib/python3.8/site-packages (from datasets) (1.3.4)\n",
      "Requirement already satisfied: huggingface-hub<1.0.0,>=0.1.0 in /home/Pedro/.local/lib/python3.8/site-packages (from datasets) (0.2.1)\n",
      "Requirement already satisfied: typing-extensions>=3.7.4.3 in /home/Pedro/.local/lib/python3.8/site-packages (from huggingface-hub<1.0.0,>=0.1.0->datasets) (3.10.0.2)\n",
      "Requirement already satisfied: filelock in /usr/local/lib/python3.8/dist-packages (from huggingface-hub<1.0.0,>=0.1.0->datasets) (3.0.12)\n",
      "Requirement already satisfied: pyyaml in /usr/local/lib/python3.8/dist-packages (from huggingface-hub<1.0.0,>=0.1.0->datasets) (5.4.1)\n",
      "Requirement already satisfied: pyparsing>=2.0.2 in /usr/local/lib/python3.8/dist-packages (from packaging->datasets) (2.4.7)\n",
      "Requirement already satisfied: certifi>=2017.4.17 in /usr/local/lib/python3.8/dist-packages (from requests>=2.19.0->datasets) (2020.12.5)\n",
      "Requirement already satisfied: chardet<5,>=3.0.2 in /usr/local/lib/python3.8/dist-packages (from requests>=2.19.0->datasets) (4.0.0)\n",
      "Requirement already satisfied: idna<3,>=2.5 in /usr/local/lib/python3.8/dist-packages (from requests>=2.19.0->datasets) (2.10)\n",
      "Requirement already satisfied: urllib3<1.27,>=1.21.1 in /usr/local/lib/python3.8/dist-packages (from requests>=2.19.0->datasets) (1.26.4)\n",
      "Requirement already satisfied: nbformat>=4.2.0 in /home/Pedro/.local/lib/python3.8/site-packages (from ipywidgets) (5.1.3)\n",
      "Requirement already satisfied: ipykernel>=4.5.1 in /home/Pedro/.local/lib/python3.8/site-packages (from ipywidgets) (6.6.0)\n",
      "Requirement already satisfied: traitlets>=4.3.1 in /home/Pedro/.local/lib/python3.8/site-packages (from ipywidgets) (5.1.1)\n",
      "Requirement already satisfied: ipython-genutils~=0.2.0 in /home/Pedro/.local/lib/python3.8/site-packages (from ipywidgets) (0.2.0)\n",
      "Requirement already satisfied: jupyterlab-widgets>=1.0.0 in /home/Pedro/.local/lib/python3.8/site-packages (from ipywidgets) (1.0.2)\n",
      "Requirement already satisfied: ipython>=4.0.0 in /home/Pedro/.local/lib/python3.8/site-packages (from ipywidgets) (7.30.1)\n",
      "Requirement already satisfied: widgetsnbextension~=3.5.0 in /home/Pedro/.local/lib/python3.8/site-packages (from ipywidgets) (3.5.2)\n",
      "Requirement already satisfied: tornado<7.0,>=4.2 in /home/Pedro/.local/lib/python3.8/site-packages (from ipykernel>=4.5.1->ipywidgets) (6.1)\n",
      "Requirement already satisfied: debugpy<2.0,>=1.0.0 in /home/Pedro/.local/lib/python3.8/site-packages (from ipykernel>=4.5.1->ipywidgets) (1.5.1)\n",
      "Requirement already satisfied: jupyter-client<8.0 in /home/Pedro/.local/lib/python3.8/site-packages (from ipykernel>=4.5.1->ipywidgets) (7.1.0)\n",
      "Requirement already satisfied: matplotlib-inline<0.2.0,>=0.1.0 in /home/Pedro/.local/lib/python3.8/site-packages (from ipykernel>=4.5.1->ipywidgets) (0.1.3)\n",
      "Requirement already satisfied: pickleshare in /home/Pedro/.local/lib/python3.8/site-packages (from ipython>=4.0.0->ipywidgets) (0.7.5)\n",
      "Requirement already satisfied: pexpect>4.3 in /home/Pedro/.local/lib/python3.8/site-packages (from ipython>=4.0.0->ipywidgets) (4.8.0)\n",
      "Requirement already satisfied: backcall in /home/Pedro/.local/lib/python3.8/site-packages (from ipython>=4.0.0->ipywidgets) (0.2.0)\n",
      "Requirement already satisfied: decorator in /home/Pedro/.local/lib/python3.8/site-packages (from ipython>=4.0.0->ipywidgets) (5.1.0)\n",
      "Requirement already satisfied: jedi>=0.16 in /home/Pedro/.local/lib/python3.8/site-packages (from ipython>=4.0.0->ipywidgets) (0.18.1)\n",
      "Requirement already satisfied: pygments in /home/Pedro/.local/lib/python3.8/site-packages (from ipython>=4.0.0->ipywidgets) (2.10.0)\n",
      "Requirement already satisfied: setuptools>=18.5 in /home/Pedro/.local/lib/python3.8/site-packages (from ipython>=4.0.0->ipywidgets) (59.5.0)\n",
      "Requirement already satisfied: prompt-toolkit!=3.0.0,!=3.0.1,<3.1.0,>=2.0.0 in /home/Pedro/.local/lib/python3.8/site-packages (from ipython>=4.0.0->ipywidgets) (3.0.23)\n",
      "Requirement already satisfied: parso<0.9.0,>=0.8.0 in /home/Pedro/.local/lib/python3.8/site-packages (from jedi>=0.16->ipython>=4.0.0->ipywidgets) (0.8.3)\n",
      "Requirement already satisfied: jupyter-core>=4.6.0 in /home/Pedro/.local/lib/python3.8/site-packages (from jupyter-client<8.0->ipykernel>=4.5.1->ipywidgets) (4.9.1)\n",
      "Requirement already satisfied: nest-asyncio>=1.5 in /home/Pedro/.local/lib/python3.8/site-packages (from jupyter-client<8.0->ipykernel>=4.5.1->ipywidgets) (1.5.4)\n",
      "Requirement already satisfied: entrypoints in /home/Pedro/.local/lib/python3.8/site-packages (from jupyter-client<8.0->ipykernel>=4.5.1->ipywidgets) (0.3)\n",
      "Requirement already satisfied: pyzmq>=13 in /home/Pedro/.local/lib/python3.8/site-packages (from jupyter-client<8.0->ipykernel>=4.5.1->ipywidgets) (22.3.0)\n",
      "Requirement already satisfied: python-dateutil>=2.1 in /home/Pedro/.local/lib/python3.8/site-packages (from jupyter-client<8.0->ipykernel>=4.5.1->ipywidgets) (2.8.2)\n",
      "Requirement already satisfied: jsonschema!=2.5.0,>=2.4 in /usr/lib/python3/dist-packages (from nbformat>=4.2.0->ipywidgets) (3.2.0)\n",
      "Requirement already satisfied: ptyprocess>=0.5 in /home/Pedro/.local/lib/python3.8/site-packages (from pexpect>4.3->ipython>=4.0.0->ipywidgets) (0.7.0)\n",
      "Requirement already satisfied: wcwidth in /home/Pedro/.local/lib/python3.8/site-packages (from prompt-toolkit!=3.0.0,!=3.0.1,<3.1.0,>=2.0.0->ipython>=4.0.0->ipywidgets) (0.2.5)\n",
      "Requirement already satisfied: six>=1.5 in /home/Pedro/.local/lib/python3.8/site-packages (from python-dateutil>=2.1->jupyter-client<8.0->ipykernel>=4.5.1->ipywidgets) (1.16.0)\n",
      "Requirement already satisfied: notebook>=4.4.1 in /home/Pedro/.local/lib/python3.8/site-packages (from widgetsnbextension~=3.5.0->ipywidgets) (6.4.6)\n",
      "Requirement already satisfied: argon2-cffi in /home/Pedro/.local/lib/python3.8/site-packages (from notebook>=4.4.1->widgetsnbextension~=3.5.0->ipywidgets) (21.3.0)\n",
      "Requirement already satisfied: prometheus-client in /home/Pedro/.local/lib/python3.8/site-packages (from notebook>=4.4.1->widgetsnbextension~=3.5.0->ipywidgets) (0.12.0)\n",
      "Requirement already satisfied: terminado>=0.8.3 in /home/Pedro/.local/lib/python3.8/site-packages (from notebook>=4.4.1->widgetsnbextension~=3.5.0->ipywidgets) (0.12.1)\n",
      "Requirement already satisfied: nbconvert in /home/Pedro/.local/lib/python3.8/site-packages (from notebook>=4.4.1->widgetsnbextension~=3.5.0->ipywidgets) (6.3.0)\n",
      "Requirement already satisfied: Send2Trash>=1.8.0 in /home/Pedro/.local/lib/python3.8/site-packages (from notebook>=4.4.1->widgetsnbextension~=3.5.0->ipywidgets) (1.8.0)\n",
      "Requirement already satisfied: jinja2 in /usr/lib/python3/dist-packages (from notebook>=4.4.1->widgetsnbextension~=3.5.0->ipywidgets) (2.10.1)\n",
      "Requirement already satisfied: yarl<2.0,>=1.0 in /home/Pedro/.local/lib/python3.8/site-packages (from aiohttp->datasets) (1.7.2)\n",
      "Requirement already satisfied: charset-normalizer<3.0,>=2.0 in /home/Pedro/.local/lib/python3.8/site-packages (from aiohttp->datasets) (2.0.9)\n",
      "Requirement already satisfied: multidict<7.0,>=4.5 in /home/Pedro/.local/lib/python3.8/site-packages (from aiohttp->datasets) (5.2.0)\n",
      "Requirement already satisfied: aiosignal>=1.1.2 in /home/Pedro/.local/lib/python3.8/site-packages (from aiohttp->datasets) (1.2.0)\n",
      "Requirement already satisfied: async-timeout<5.0,>=4.0.0a3 in /home/Pedro/.local/lib/python3.8/site-packages (from aiohttp->datasets) (4.0.1)\n",
      "Requirement already satisfied: attrs>=17.3.0 in /usr/lib/python3/dist-packages (from aiohttp->datasets) (19.3.0)\n",
      "Requirement already satisfied: frozenlist>=1.1.1 in /home/Pedro/.local/lib/python3.8/site-packages (from aiohttp->datasets) (1.2.0)\n",
      "Requirement already satisfied: argon2-cffi-bindings in /home/Pedro/.local/lib/python3.8/site-packages (from argon2-cffi->notebook>=4.4.1->widgetsnbextension~=3.5.0->ipywidgets) (21.2.0)\n",
      "Requirement already satisfied: cffi>=1.0.1 in /home/Pedro/.local/lib/python3.8/site-packages (from argon2-cffi-bindings->argon2-cffi->notebook>=4.4.1->widgetsnbextension~=3.5.0->ipywidgets) (1.15.0)\n",
      "Requirement already satisfied: pycparser in /home/Pedro/.local/lib/python3.8/site-packages (from cffi>=1.0.1->argon2-cffi-bindings->argon2-cffi->notebook>=4.4.1->widgetsnbextension~=3.5.0->ipywidgets) (2.21)\n",
      "Requirement already satisfied: pandocfilters>=1.4.1 in /home/Pedro/.local/lib/python3.8/site-packages (from nbconvert->notebook>=4.4.1->widgetsnbextension~=3.5.0->ipywidgets) (1.5.0)\n",
      "Requirement already satisfied: mistune<2,>=0.8.1 in /home/Pedro/.local/lib/python3.8/site-packages (from nbconvert->notebook>=4.4.1->widgetsnbextension~=3.5.0->ipywidgets) (0.8.4)\n",
      "Requirement already satisfied: nbclient<0.6.0,>=0.5.0 in /home/Pedro/.local/lib/python3.8/site-packages (from nbconvert->notebook>=4.4.1->widgetsnbextension~=3.5.0->ipywidgets) (0.5.9)\n",
      "Requirement already satisfied: jupyterlab-pygments in /home/Pedro/.local/lib/python3.8/site-packages (from nbconvert->notebook>=4.4.1->widgetsnbextension~=3.5.0->ipywidgets) (0.1.2)\n",
      "Requirement already satisfied: bleach in /home/Pedro/.local/lib/python3.8/site-packages (from nbconvert->notebook>=4.4.1->widgetsnbextension~=3.5.0->ipywidgets) (4.1.0)\n",
      "Requirement already satisfied: testpath in /home/Pedro/.local/lib/python3.8/site-packages (from nbconvert->notebook>=4.4.1->widgetsnbextension~=3.5.0->ipywidgets) (0.5.0)\n",
      "Requirement already satisfied: defusedxml in /home/Pedro/.local/lib/python3.8/site-packages (from nbconvert->notebook>=4.4.1->widgetsnbextension~=3.5.0->ipywidgets) (0.7.1)\n",
      "Requirement already satisfied: webencodings in /home/Pedro/.local/lib/python3.8/site-packages (from bleach->nbconvert->notebook>=4.4.1->widgetsnbextension~=3.5.0->ipywidgets) (0.5.1)\n",
      "Requirement already satisfied: pytz>=2017.3 in /usr/local/lib/python3.8/dist-packages (from pandas->datasets) (2021.1)\n",
      "\u001b[33mWARNING: You are using pip version 21.1.2; however, version 21.3.1 is available.\n",
      "You should consider upgrading via the '/usr/bin/python3 -m pip install --upgrade pip' command.\u001b[0m\n"
     ]
    }
   ],
   "source": [
    "# install datasets\n",
    "!pip3 install datasets unidecode ipywidgets tqdm\n",
    "\n",
    "# Make sure that we have a recent version of pyarrow in the session before we continue - otherwise reboot Colab to activate it\n",
    "import pyarrow\n",
    "if int(pyarrow.__version__.split('.')[1]) < 16 and int(pyarrow.__version__.split('.')[0]) == 0:\n",
    "    import os\n",
    "    os.kill(os.getpid(), 9)\n",
    "\n",
    "from datasets import load_dataset\n",
    "from pprint import pprint\n",
    "from tqdm import tqdm\n",
    "import numpy as np\n",
    "from unidecode import unidecode\n",
    "import re\n",
    "import scipy.sparse\n",
    "import scipy\n",
    "from sklearn.decomposition import PCA\n",
    "import matplotlib.pyplot as plt\n",
    "from cb91visuals import *"
   ]
  },
  {
   "cell_type": "code",
   "execution_count": 3,
   "metadata": {},
   "outputs": [
    {
     "name": "stderr",
     "output_type": "stream",
     "text": [
      "Reusing dataset capes (/home/Pedro/.cache/huggingface/datasets/capes/en-pt/1.0.0/b2c08eed67d23b54883a184eb830ecc54bc1cb7f7e4527ee45586ef5bbd0cc8f)\n"
     ]
    },
    {
     "data": {
      "application/vnd.jupyter.widget-view+json": {
       "model_id": "b3d2b9f23e30454486149b5c228884e6",
       "version_major": 2,
       "version_minor": 0
      },
      "text/plain": [
       "  0%|          | 0/1 [00:00<?, ?it/s]"
      ]
     },
     "metadata": {},
     "output_type": "display_data"
    },
    {
     "name": "stdout",
     "output_type": "stream",
     "text": [
      "{'train': Dataset({\n",
      "    features: ['translation'],\n",
      "    num_rows: 1157610\n",
      "})}\n"
     ]
    }
   ],
   "source": [
    "# Checks if ppmi matrix was saved to disk\n",
    "\n",
    "if os.path.exists('capes_ppmi.npy'):\n",
    "  print(\"Loading ppmi matrix from disk...\")\n",
    "  sparse_ppmi = scipy.sparse.load_npz('capes_ppmi.npy')\n",
    "else:\n",
    "  dataset = load_dataset('capes')\n",
    "  pprint(dataset)\n",
    "\n",
    "  texts = []\n",
    "\n",
    "  print(\"Pre-processing dataset...\")\n",
    "  def process_text(text):\n",
    "    txt = unidecode(text).replace('\\n' , '') # Normalizes string\n",
    "    txt = re.sub(r\"\\([^()]*\\)\", \"\", txt) # Removes everything inside parenthesis\n",
    "    txt = re.sub(r'\\w*\\d\\w*', ' ', txt).strip() # Remove numbers\n",
    "    txt = re.sub(r'[^a-zA-Z0-9]', ' ', txt) # Removes all non-alphanumeric characters\n",
    "    txt = re.sub(r\"\\s{2,}\", ' ', txt).strip() # Removes double or more spaces\n",
    "    return txt\n",
    "\n",
    "  for text in tqdm(dataset['train']['translation']):\n",
    "    texts.append(process_text(text['pt']))\n",
    "\n",
    "  MAX_WORD_SIZE = 28\n",
    "  MIN_FREQ = 70\n",
    "\n",
    "  def iterate_dataset(window_size, word_fn, *args):\n",
    "    for text in tqdm(texts):\n",
    "      words = text.split(\" \")\n",
    "      for i in range(len(words)):\n",
    "        word = words[i]\n",
    "\n",
    "        if len(word) > MAX_WORD_SIZE:\n",
    "          continue\n",
    "\n",
    "        for j in range(-window_size, window_size):\n",
    "          if j + i >= 0 and j + i < len(words):\n",
    "            if not word_fn is None and len(words[j+i]) <= MAX_WORD_SIZE:\n",
    "              word_fn(word, words[j + i], *args)\n",
    "\n",
    "  def word_map_create_fn(word, context, words_map, words_count):\n",
    "    if not word in words_map:\n",
    "      words_map[word] = len(words_map)\n",
    "      words_count[word] = 0\n",
    "    \n",
    "    words_count[word] += 1\n",
    "\n",
    "  def freq_ctx_fn(word, context, words_map, freq_matrix):\n",
    "    if word in words_map and context in words_map:\n",
    "      freq_matrix[words_map[word], words_map[context]] += 1\n",
    "\n",
    "  def create_freq_matrix(window_size):\n",
    "    words_map = {}\n",
    "    words_count = {}\n",
    "\n",
    "    print(\"Creating word map...\")\n",
    "    iterate_dataset(window_size,\n",
    "                    word_map_create_fn,\n",
    "                    words_map, words_count)\n",
    "    \n",
    "    # Remove words that are not frequent enough\n",
    "    for word, freq in words_count.items():\n",
    "      if freq < MIN_FREQ:\n",
    "        if word in words_map:\n",
    "          del words_map[word]\n",
    "\n",
    "    # Adjusts the word map indices\n",
    "    words = []\n",
    "    i = 0\n",
    "    for w in words_map:\n",
    "      words_map[w] = i\n",
    "      words.append(w)\n",
    "      i += 1\n",
    "\n",
    "    print(\"Vocab size:\", len(words_map))\n",
    "    \n",
    "    # Creates the frequency matrix\n",
    "    print(\"Allocating frequency matrix: {:.2f} GB\".format((len(words_map) * len(words_map)) * 2 / (1000 ** 3)))\n",
    "    freq_matrix = np.zeros((len(words_map), len(words_map)), dtype=np.float32)\n",
    "\n",
    "    print(\"Creating frequency matrix...\")\n",
    "    iterate_dataset(window_size, freq_ctx_fn, words_map, freq_matrix)\n",
    "    return freq_matrix, words\n",
    "\n",
    "  freq_matrix, words = create_freq_matrix(window_size=2)\n",
    "\n",
    "  def create_ppmi_matrix(freq_matrix, positive=True):\n",
    "    total = freq_matrix.sum()\n",
    "    word_counts = np.sum(freq_matrix, axis=1)\n",
    "    context_counts = np.sum(freq_matrix, axis=0)\n",
    "\n",
    "    expected = np.outer(word_counts, context_counts) / total\n",
    "    freq_matrix = freq_matrix / expected\n",
    "\n",
    "    with np.errstate(divide='ignore'):\n",
    "      freq_matrix = np.log(freq_matrix)\n",
    "\n",
    "    freq_matrix[np.isinf(freq_matrix)] = 0.0\n",
    "\n",
    "    if positive:\n",
    "      freq_matrix[freq_matrix < 0] = 0.0\n",
    "\n",
    "    return freq_matrix\n",
    "\n",
    "  ppmi = create_ppmi_matrix(freq_matrix)\n",
    "  sparse_ppmi = scipy.sparse.coo_matrix(ppmi)\n",
    "  scipy.sparse.save_npz('capes_ppmi.npz', sparse_ppmi)"
   ]
  },
  {
   "cell_type": "code",
   "execution_count": 21,
   "metadata": {},
   "outputs": [],
   "source": [
    "import jax\n",
    "import jax.numpy as jnp\n",
    "import numpy as np\n",
    "from sklearn.utils.extmath import randomized_svd\n",
    "\n",
    "jax.config.update('jax_platform_name', 'cpu') # Not enough memory to run on the TPU\n",
    "\n",
    "U, Sigma, VT = randomized_svd(sparse_ppmi, \n",
    "                              n_components=128,\n",
    "                              n_iter=8,\n",
    "                              random_state=None)"
   ]
  },
  {
   "cell_type": "code",
   "execution_count": 53,
   "metadata": {},
   "outputs": [],
   "source": [
    "W = np.dot(U, np.diag(np.sqrt(Sigma)))\n",
    "\n",
    "words_map = {}\n",
    "\n",
    "for i in range(len(words)):\n",
    "    words_map[words[i]] = i\n",
    "\n",
    "def get_embedding(word):\n",
    "    if word in words_map:\n",
    "        return W[words_map[word],]\n",
    "    else:\n",
    "        return np.zeros(128)\n",
    "\n",
    "def get_embeddings(words):\n",
    "    return np.array([get_embedding(word) for word in words])\n",
    "\n",
    "def get_closest_words(embedding, count):\n",
    "    distances = np.linalg.norm(W - embedding, axis=1)\n",
    "    return np.asarray(words, dtype=np.str)[np.argsort(distances)[:count]]"
   ]
  },
  {
   "cell_type": "code",
   "execution_count": 95,
   "metadata": {},
   "outputs": [
    {
     "data": {
      "image/png": "[encoded data removed]",
      "text/plain": [
       "<Figure size 720x576 with 1 Axes>"
      ]
     },
     "metadata": {},
     "output_type": "display_data"
    }
   ],
   "source": [
    "words_to_plot = [ 'azul', 'amarelo', 'branco', 'cultura', 'arte', 'educacao', 'musica', 'teatro',\n",
    "                  'cinema', 'verde', 'rosa', 'integral', 'derivada', 'vetor', 'fourier',\n",
    "                  'series', 'verossimilhanca', 'poisson' ]\n",
    "\n",
    "plt.rcParams['figure.figsize'] = (10, 8)\n",
    "\n",
    "pca = PCA(n_components=2)\n",
    "X = pca.fit_transform(get_embeddings(words_to_plot))\n",
    "plt.scatter(x=X[:,0], y=X[:,1])\n",
    " \n",
    "# Inserts labels to the plot\n",
    "for i in range(len(words_to_plot)):\n",
    "    plt.text(X[i, 0], X[i, 1] + 0.05, words_to_plot[i], ha='center', va='center')"
   ]
  },
  {
   "cell_type": "code",
   "execution_count": 82,
   "metadata": {},
   "outputs": [
    {
     "data": {
      "text/plain": [
       "array(['amor', 'felicidade', 'desejo', 'solidao', 'deus', 'afeto',\n",
       "       'espiritualidade', 'alma', 'mito', 'erotismo'], dtype='<U27')"
      ]
     },
     "execution_count": 82,
     "metadata": {},
     "output_type": "execute_result"
    }
   ],
   "source": [
    "get_closest_words(get_embedding('amor'), 10)"
   ]
  },
  {
   "cell_type": "code",
   "execution_count": 83,
   "metadata": {},
   "outputs": [
    {
     "data": {
      "text/plain": [
       "array(['navio', 'trilho', 'pente', 'megaevento', 'combustor',\n",
       "       'aldeamento', 'aerogerador', 'subjetivismo', 'vestido',\n",
       "       'esquizofrenico'], dtype='<U27')"
      ]
     },
     "execution_count": 83,
     "metadata": {},
     "output_type": "execute_result"
    }
   ],
   "source": [
    "get_closest_words(get_embedding('navio'), 10)"
   ]
  }
 ],
 "metadata": {
  "interpreter": {
   "hash": "916dbcbb3f70747c44a77c7bcd40155683ae19c65e1c03b4aa3499c5328201f1"
  },
  "kernelspec": {
   "display_name": "Python 3 (ipykernel)",
   "language": "python",
   "name": "python3"
  },
  "language_info": {
   "codemirror_mode": {
    "name": "ipython",
    "version": 3
   },
   "file_extension": ".py",
   "mimetype": "text/x-python",
   "name": "python",
   "nbconvert_exporter": "python",
   "pygments_lexer": "ipython3",
   "version": "3.8.10"
  }
 },
 "nbformat": 4,
 "nbformat_minor": 4
}
